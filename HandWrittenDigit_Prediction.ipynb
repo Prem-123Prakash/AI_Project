{
 "cells": [
  {
   "cell_type": "markdown",
   "id": "91d87cce",
   "metadata": {},
   "source": [
    "# Title:-  Hand Written Digit Prediction(Classification Analysis)\n"
   ]
  },
  {
   "cell_type": "markdown",
   "id": "3e6c093a",
   "metadata": {},
   "source": [
    "# Objective:- To Predict Hand Written Digit from the given dataset."
   ]
  },
  {
   "cell_type": "markdown",
   "id": "761d7872",
   "metadata": {},
   "source": [
    "# Data Source:- Kaggle"
   ]
  },
  {
   "cell_type": "markdown",
   "id": "cd06f5a3",
   "metadata": {},
   "source": [
    "# Import Library"
   ]
  },
  {
   "cell_type": "code",
   "execution_count": 36,
   "id": "8b3ed5ce",
   "metadata": {},
   "outputs": [],
   "source": [
    "import pandas as pd\n",
    "import numpy as np\n",
    "import matplotlib.pyplot as plt\n",
    "from sklearn.datasets import load_digits\n",
    "from sklearn.model_selection import train_test_split\n",
    "from sklearn.ensemble import RandomForestClassifier\n",
    "from sklearn.metrics import confusion_matrix, classification_report"
   ]
  },
  {
   "cell_type": "markdown",
   "id": "b18921b0",
   "metadata": {},
   "source": [
    "# Import Data\n"
   ]
  },
  {
   "cell_type": "code",
   "execution_count": 6,
   "id": "dd8677df",
   "metadata": {},
   "outputs": [],
   "source": [
    "df = load_digits()"
   ]
  },
  {
   "cell_type": "code",
   "execution_count": 12,
   "id": "02bf1e79",
   "metadata": {},
   "outputs": [
    {
     "data": {
      "image/png": "[encoded data removed]",
      "text/plain": [
       "<Figure size 720x216 with 4 Axes>"
      ]
     },
     "metadata": {
      "needs_background": "light"
     },
     "output_type": "display_data"
    }
   ],
   "source": [
    "  _, axes = plt.subplots(nrows=1, ncols = 4, figsize=(10,3))\n",
    "for ax, image, label in zip(axes, df.images, df.target):\n",
    "    ax.set_axis_off()\n",
    "    ax.imshow(image, cmap=plt.cm.gray_r, interpolation=\"nearest\")\n",
    "    ax.set_title(\"Training : %i\" % label)"
   ]
  },
  {
   "cell_type": "markdown",
   "id": "82e59283",
   "metadata": {},
   "source": [
    "# Data Preprocessing"
   ]
  },
  {
   "cell_type": "code",
   "execution_count": 14,
   "id": "837b595f",
   "metadata": {},
   "outputs": [
    {
     "data": {
      "text/plain": [
       "(1797, 8, 8)"
      ]
     },
     "execution_count": 14,
     "metadata": {},
     "output_type": "execute_result"
    }
   ],
   "source": [
    "df.images.shape"
   ]
  },
  {
   "cell_type": "code",
   "execution_count": 15,
   "id": "b9e54655",
   "metadata": {},
   "outputs": [
    {
     "data": {
      "text/plain": [
       "array([[ 0.,  0.,  5., 13.,  9.,  1.,  0.,  0.],\n",
       "       [ 0.,  0., 13., 15., 10., 15.,  5.,  0.],\n",
       "       [ 0.,  3., 15.,  2.,  0., 11.,  8.,  0.],\n",
       "       [ 0.,  4., 12.,  0.,  0.,  8.,  8.,  0.],\n",
       "       [ 0.,  5.,  8.,  0.,  0.,  9.,  8.,  0.],\n",
       "       [ 0.,  4., 11.,  0.,  1., 12.,  7.,  0.],\n",
       "       [ 0.,  2., 14.,  5., 10., 12.,  0.,  0.],\n",
       "       [ 0.,  0.,  6., 13., 10.,  0.,  0.,  0.]])"
      ]
     },
     "execution_count": 15,
     "metadata": {},
     "output_type": "execute_result"
    }
   ],
   "source": [
    "df.images[0]"
   ]
  },
  {
   "cell_type": "code",
   "execution_count": 16,
   "id": "6294eacf",
   "metadata": {},
   "outputs": [
    {
     "data": {
      "text/plain": [
       "(8, 8)"
      ]
     },
     "execution_count": 16,
     "metadata": {},
     "output_type": "execute_result"
    }
   ],
   "source": [
    "df.images[0].shape"
   ]
  },
  {
   "cell_type": "code",
   "execution_count": 17,
   "id": "41c93acb",
   "metadata": {},
   "outputs": [
    {
     "data": {
      "text/plain": [
       "1797"
      ]
     },
     "execution_count": 17,
     "metadata": {},
     "output_type": "execute_result"
    }
   ],
   "source": [
    "len(df.images)"
   ]
  },
  {
   "cell_type": "code",
   "execution_count": 18,
   "id": "10edf04f",
   "metadata": {},
   "outputs": [],
   "source": [
    "n_samples = len(df.images)\n",
    "data = df.images.reshape((n_samples, -1))"
   ]
  },
  {
   "cell_type": "code",
   "execution_count": 19,
   "id": "3c8e252e",
   "metadata": {},
   "outputs": [
    {
     "data": {
      "text/plain": [
       "array([ 0.,  0.,  5., 13.,  9.,  1.,  0.,  0.,  0.,  0., 13., 15., 10.,\n",
       "       15.,  5.,  0.,  0.,  3., 15.,  2.,  0., 11.,  8.,  0.,  0.,  4.,\n",
       "       12.,  0.,  0.,  8.,  8.,  0.,  0.,  5.,  8.,  0.,  0.,  9.,  8.,\n",
       "        0.,  0.,  4., 11.,  0.,  1., 12.,  7.,  0.,  0.,  2., 14.,  5.,\n",
       "       10., 12.,  0.,  0.,  0.,  0.,  6., 13., 10.,  0.,  0.,  0.])"
      ]
     },
     "execution_count": 19,
     "metadata": {},
     "output_type": "execute_result"
    }
   ],
   "source": [
    "data[0]"
   ]
  },
  {
   "cell_type": "code",
   "execution_count": 20,
   "id": "1b2b1b1a",
   "metadata": {},
   "outputs": [
    {
     "data": {
      "text/plain": [
       "(64,)"
      ]
     },
     "execution_count": 20,
     "metadata": {},
     "output_type": "execute_result"
    }
   ],
   "source": [
    "data[0].shape"
   ]
  },
  {
   "cell_type": "code",
   "execution_count": 21,
   "id": "f03c4592",
   "metadata": {},
   "outputs": [
    {
     "data": {
      "text/plain": [
       "(1797, 64)"
      ]
     },
     "execution_count": 21,
     "metadata": {},
     "output_type": "execute_result"
    }
   ],
   "source": [
    "data.shape"
   ]
  },
  {
   "cell_type": "markdown",
   "id": "8544d31b",
   "metadata": {},
   "source": [
    "# Scaling image data"
   ]
  },
  {
   "cell_type": "code",
   "execution_count": 22,
   "id": "ec6feaf4",
   "metadata": {},
   "outputs": [
    {
     "data": {
      "text/plain": [
       "0.0"
      ]
     },
     "execution_count": 22,
     "metadata": {},
     "output_type": "execute_result"
    }
   ],
   "source": [
    "data.min()"
   ]
  },
  {
   "cell_type": "code",
   "execution_count": 23,
   "id": "1d2d61b2",
   "metadata": {},
   "outputs": [
    {
     "data": {
      "text/plain": [
       "16.0"
      ]
     },
     "execution_count": 23,
     "metadata": {},
     "output_type": "execute_result"
    }
   ],
   "source": [
    "data.max()"
   ]
  },
  {
   "cell_type": "code",
   "execution_count": 24,
   "id": "a6cfeeb1",
   "metadata": {},
   "outputs": [],
   "source": [
    "data = data/16"
   ]
  },
  {
   "cell_type": "code",
   "execution_count": 25,
   "id": "8826267a",
   "metadata": {},
   "outputs": [
    {
     "data": {
      "text/plain": [
       "0.0"
      ]
     },
     "execution_count": 25,
     "metadata": {},
     "output_type": "execute_result"
    }
   ],
   "source": [
    "data.min()"
   ]
  },
  {
   "cell_type": "code",
   "execution_count": 26,
   "id": "02747661",
   "metadata": {},
   "outputs": [
    {
     "data": {
      "text/plain": [
       "1.0"
      ]
     },
     "execution_count": 26,
     "metadata": {},
     "output_type": "execute_result"
    }
   ],
   "source": [
    "data.max()"
   ]
  },
  {
   "cell_type": "code",
   "execution_count": 27,
   "id": "5fe10b36",
   "metadata": {},
   "outputs": [
    {
     "data": {
      "text/plain": [
       "array([0.    , 0.    , 0.3125, 0.8125, 0.5625, 0.0625, 0.    , 0.    ,\n",
       "       0.    , 0.    , 0.8125, 0.9375, 0.625 , 0.9375, 0.3125, 0.    ,\n",
       "       0.    , 0.1875, 0.9375, 0.125 , 0.    , 0.6875, 0.5   , 0.    ,\n",
       "       0.    , 0.25  , 0.75  , 0.    , 0.    , 0.5   , 0.5   , 0.    ,\n",
       "       0.    , 0.3125, 0.5   , 0.    , 0.    , 0.5625, 0.5   , 0.    ,\n",
       "       0.    , 0.25  , 0.6875, 0.    , 0.0625, 0.75  , 0.4375, 0.    ,\n",
       "       0.    , 0.125 , 0.875 , 0.3125, 0.625 , 0.75  , 0.    , 0.    ,\n",
       "       0.    , 0.    , 0.375 , 0.8125, 0.625 , 0.    , 0.    , 0.    ])"
      ]
     },
     "execution_count": 27,
     "metadata": {},
     "output_type": "execute_result"
    }
   ],
   "source": [
    "data[0]"
   ]
  },
  {
   "cell_type": "markdown",
   "id": "afb18ab0",
   "metadata": {},
   "source": [
    "# Train Test Split Data"
   ]
  },
  {
   "cell_type": "code",
   "execution_count": 29,
   "id": "5fb39550",
   "metadata": {},
   "outputs": [],
   "source": [
    "X_train, X_test, y_train, y_test = train_test_split(data, df.target, test_size=0.3)"
   ]
  },
  {
   "cell_type": "code",
   "execution_count": 30,
   "id": "4578a3b2",
   "metadata": {},
   "outputs": [
    {
     "data": {
      "text/plain": [
       "((1257, 64), (540, 64), (1257,), (540,))"
      ]
     },
     "execution_count": 30,
     "metadata": {},
     "output_type": "execute_result"
    }
   ],
   "source": [
    "X_train.shape, X_test.shape, y_train.shape, y_test.shape"
   ]
  },
  {
   "cell_type": "markdown",
   "id": "0f82bf16",
   "metadata": {},
   "source": [
    "# Random Forest Model"
   ]
  },
  {
   "cell_type": "code",
   "execution_count": 32,
   "id": "f5267aa1",
   "metadata": {},
   "outputs": [],
   "source": [
    "rf = RandomForestClassifier()"
   ]
  },
  {
   "cell_type": "code",
   "execution_count": 33,
   "id": "6680348a",
   "metadata": {},
   "outputs": [
    {
     "data": {
      "text/plain": [
       "RandomForestClassifier()"
      ]
     },
     "execution_count": 33,
     "metadata": {},
     "output_type": "execute_result"
    }
   ],
   "source": [
    "rf.fit(X_train, y_train)"
   ]
  },
  {
   "cell_type": "markdown",
   "id": "7381b954",
   "metadata": {},
   "source": [
    "# Predict test data"
   ]
  },
  {
   "cell_type": "code",
   "execution_count": 34,
   "id": "d9871b3c",
   "metadata": {},
   "outputs": [],
   "source": [
    "y_pred = rf.predict(X_test)"
   ]
  },
  {
   "cell_type": "code",
   "execution_count": 35,
   "id": "f11ed84c",
   "metadata": {},
   "outputs": [
    {
     "data": {
      "text/plain": [
       "array([9, 0, 4, 7, 0, 1, 1, 6, 0, 7, 1, 7, 0, 8, 0, 0, 8, 6, 1, 9, 3, 3,\n",
       "       8, 6, 3, 1, 7, 6, 5, 1, 4, 6, 3, 6, 0, 8, 4, 8, 5, 6, 6, 4, 1, 9,\n",
       "       2, 1, 3, 7, 9, 0, 9, 6, 1, 4, 7, 7, 9, 6, 7, 0, 3, 9, 0, 8, 0, 9,\n",
       "       8, 1, 5, 4, 4, 1, 8, 8, 2, 6, 5, 9, 5, 5, 8, 8, 8, 5, 7, 3, 5, 9,\n",
       "       4, 0, 6, 9, 3, 1, 3, 6, 5, 9, 0, 9, 5, 1, 3, 7, 9, 1, 8, 2, 8, 2,\n",
       "       0, 3, 2, 9, 7, 3, 7, 0, 0, 2, 6, 5, 3, 2, 8, 5, 6, 1, 0, 2, 2, 6,\n",
       "       1, 4, 0, 2, 1, 5, 7, 0, 8, 9, 7, 8, 2, 4, 7, 4, 5, 9, 4, 8, 3, 6,\n",
       "       4, 9, 8, 6, 9, 7, 2, 1, 6, 7, 2, 1, 5, 0, 2, 6, 4, 4, 6, 4, 7, 6,\n",
       "       5, 5, 9, 7, 9, 4, 2, 8, 0, 4, 8, 9, 3, 8, 6, 9, 2, 0, 2, 4, 7, 1,\n",
       "       9, 2, 1, 7, 3, 0, 2, 8, 5, 9, 8, 1, 6, 8, 5, 8, 4, 5, 2, 4, 1, 6,\n",
       "       1, 5, 0, 5, 1, 5, 3, 3, 1, 7, 6, 1, 7, 4, 8, 0, 3, 1, 7, 1, 2, 8,\n",
       "       2, 6, 4, 2, 7, 2, 1, 7, 6, 8, 8, 9, 8, 7, 1, 5, 7, 7, 7, 7, 3, 6,\n",
       "       1, 4, 1, 6, 5, 1, 8, 1, 0, 5, 8, 2, 4, 0, 9, 4, 1, 2, 3, 6, 3, 0,\n",
       "       9, 2, 6, 2, 4, 2, 9, 7, 9, 0, 9, 4, 1, 5, 0, 2, 2, 5, 6, 3, 2, 3,\n",
       "       9, 4, 0, 9, 4, 7, 2, 4, 1, 5, 0, 1, 3, 6, 7, 1, 1, 9, 6, 0, 1, 1,\n",
       "       6, 6, 2, 5, 4, 8, 3, 0, 4, 9, 9, 6, 6, 5, 6, 3, 1, 4, 7, 4, 3, 8,\n",
       "       9, 8, 4, 0, 1, 0, 5, 9, 2, 2, 5, 0, 2, 5, 8, 6, 4, 0, 7, 5, 2, 0,\n",
       "       6, 4, 6, 4, 8, 6, 1, 8, 7, 4, 9, 1, 5, 8, 7, 9, 4, 7, 4, 4, 2, 0,\n",
       "       2, 3, 3, 5, 1, 7, 0, 3, 1, 6, 3, 0, 2, 0, 1, 5, 9, 6, 7, 0, 9, 5,\n",
       "       9, 9, 4, 7, 1, 5, 2, 9, 9, 6, 2, 9, 8, 6, 4, 4, 4, 0, 0, 5, 8, 0,\n",
       "       9, 0, 6, 4, 6, 2, 4, 5, 0, 3, 3, 3, 1, 9, 8, 2, 3, 5, 0, 2, 7, 9,\n",
       "       3, 5, 7, 9, 8, 1, 5, 8, 5, 8, 9, 6, 8, 4, 3, 1, 6, 2, 2, 7, 5, 9,\n",
       "       3, 1, 7, 0, 2, 7, 8, 3, 4, 2, 1, 0, 9, 3, 7, 3, 3, 6, 1, 4, 1, 5,\n",
       "       3, 5, 0, 3, 7, 4, 5, 2, 3, 9, 6, 3, 4, 5, 3, 8, 4, 3, 7, 6, 8, 8,\n",
       "       3, 3, 4, 8, 4, 9, 3, 1, 8, 7, 3, 1])"
      ]
     },
     "execution_count": 35,
     "metadata": {},
     "output_type": "execute_result"
    }
   ],
   "source": [
    "y_pred"
   ]
  },
  {
   "cell_type": "markdown",
   "id": "8f88fe9e",
   "metadata": {},
   "source": [
    "# Model Accuracy"
   ]
  },
  {
   "cell_type": "code",
   "execution_count": 37,
   "id": "09c5927d",
   "metadata": {},
   "outputs": [
    {
     "data": {
      "text/plain": [
       "array([[53,  0,  0,  0,  0,  0,  0,  0,  0,  0],\n",
       "       [ 0, 60,  0,  0,  0,  0,  0,  0,  0,  0],\n",
       "       [ 0,  0, 51,  0,  0,  0,  0,  0,  0,  0],\n",
       "       [ 0,  0,  0, 52,  0,  1,  0,  0,  0,  0],\n",
       "       [ 0,  0,  0,  0, 56,  0,  0,  0,  0,  0],\n",
       "       [ 0,  0,  0,  0,  1, 48,  0,  0,  0,  0],\n",
       "       [ 0,  0,  0,  0,  0,  0, 55,  0,  1,  0],\n",
       "       [ 0,  0,  0,  0,  0,  0,  0, 50,  0,  0],\n",
       "       [ 0,  0,  0,  0,  0,  1,  0,  1, 52,  0],\n",
       "       [ 0,  0,  0,  1,  0,  1,  0,  0,  0, 56]], dtype=int64)"
      ]
     },
     "execution_count": 37,
     "metadata": {},
     "output_type": "execute_result"
    }
   ],
   "source": [
    "confusion_matrix(y_test, y_pred)"
   ]
  },
  {
   "cell_type": "code",
   "execution_count": 38,
   "id": "ef9ed93d",
   "metadata": {},
   "outputs": [
    {
     "name": "stdout",
     "output_type": "stream",
     "text": [
      "              precision    recall  f1-score   support\n",
      "\n",
      "           0       1.00      1.00      1.00        53\n",
      "           1       1.00      1.00      1.00        60\n",
      "           2       1.00      1.00      1.00        51\n",
      "           3       0.98      0.98      0.98        53\n",
      "           4       0.98      1.00      0.99        56\n",
      "           5       0.94      0.98      0.96        49\n",
      "           6       1.00      0.98      0.99        56\n",
      "           7       0.98      1.00      0.99        50\n",
      "           8       0.98      0.96      0.97        54\n",
      "           9       1.00      0.97      0.98        58\n",
      "\n",
      "    accuracy                           0.99       540\n",
      "   macro avg       0.99      0.99      0.99       540\n",
      "weighted avg       0.99      0.99      0.99       540\n",
      "\n"
     ]
    }
   ],
   "source": [
    "print(classification_report(y_test, y_pred))"
   ]
  },
  {
   "cell_type": "code",
   "execution_count": null,
   "id": "bdaa4b98",
   "metadata": {},
   "outputs": [],
   "source": []
  }
 ],
 "metadata": {
  "kernelspec": {
   "display_name": "Python 3 (ipykernel)",
   "language": "python",
   "name": "python3"
  },
  "language_info": {
   "codemirror_mode": {
    "name": "ipython",
    "version": 3
   },
   "file_extension": ".py",
   "mimetype": "text/x-python",
   "name": "python",
   "nbconvert_exporter": "python",
   "pygments_lexer": "ipython3",
   "version": "3.9.7"
  }
 },
 "nbformat": 4,
 "nbformat_minor": 5
}
